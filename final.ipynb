{
 "cells": [
  {
   "metadata": {
    "ExecuteTime": {
     "end_time": "2025-07-27T13:57:59.006307Z",
     "start_time": "2025-07-27T13:57:52.957339Z"
    }
   },
   "cell_type": "code",
   "source": "!pip install -qU pymupdf4llm Pillow langchain langchain-openai langchain-text-splitters langchain_community langchain-pymupdf4llm langgraph gradio ipywidgets",
   "id": "c78e2d9c10670167",
   "outputs": [
    {
     "name": "stderr",
     "output_type": "stream",
     "text": [
      "\n",
      "[notice] A new release of pip is available: 25.0.1 -> 25.1.1\n",
      "[notice] To update, run: python.exe -m pip install --upgrade pip\n"
     ]
    }
   ],
   "execution_count": 1
  },
  {
   "metadata": {
    "ExecuteTime": {
     "end_time": "2025-07-27T13:57:59.536052Z",
     "start_time": "2025-07-27T13:57:59.517376Z"
    }
   },
   "cell_type": "code",
   "source": [
    "import os\n",
    "\n",
    "if not os.environ.get(\"OPENAI_API_KEY\"):\n",
    "    raise \"OPENAI_API_KEY not set\"\n",
    "\n",
    "if not os.environ.get(\"LANGSMITH_API_KEY\"):\n",
    "    raise \"LANGSMITH_API_KEY not set\"\n",
    "os.environ[\"LANGSMITH_TRACING\"] = \"true\"\n",
    "os.environ[\"LANGSMITH_PROJECT\"] = \"ai-final\"\n",
    "os.environ[\"LANGSMITH_ENDPOINT\"] = \"https://api.smith.langchain.com\"\n",
    "os.environ[\"LANGCHAIN_TRACING_V2\"] = \"true\"\n",
    "\n",
    "PDF_FILE = \"EPAM-Reports-Results-for-Fourth-Quarter-and-Full-Year-2024.pdf\"\n",
    "\n",
    "IMAGES_FOLDER = './storage/images'\n",
    "TABLES_FOLDER = './storage/tables'\n",
    "\n",
    "IMAGES_SUMMARY_MODEL = \"gpt-4o-mini\"\n",
    "IMAGES_SUMMARY_PROMPT = \"Describe the image in detail. For context, the image is part of a PDF document\"\n",
    "\n",
    "TABLES_SUMMARY_MODEL = \"gpt-4o-mini\"\n",
    "TABLES_SUMMARY_PROMPT = \"Describe the image of the table in detail. For context, the image is part of a PDF document.\"\n",
    "\n",
    "LLM_MODEL = \"gpt-4o\"\n",
    "\n",
    "CHUNK_SIZE = 500\n",
    "CHUNK_OVERLAP = 0\n",
    "\n",
    "EMBEDDINGS_MODEL = \"text-embedding-3-small\"\n",
    "\n",
    "os.makedirs(IMAGES_FOLDER, exist_ok=True)\n",
    "os.makedirs(TABLES_FOLDER, exist_ok=True)\n"
   ],
   "id": "68117cbceef63d50",
   "outputs": [],
   "execution_count": 2
  },
  {
   "metadata": {
    "ExecuteTime": {
     "end_time": "2025-07-27T13:58:06.578189Z",
     "start_time": "2025-07-27T13:57:59.561263Z"
    }
   },
   "cell_type": "code",
   "source": [
    "import fitz\n",
    "import io\n",
    "from PIL import Image\n",
    "from langchain_openai import OpenAIEmbeddings\n",
    "from langchain_openai import ChatOpenAI\n",
    "from langchain_core.prompts import ChatPromptTemplate\n",
    "from langchain_core.output_parsers import StrOutputParser\n",
    "from langchain_core.documents import Document\n",
    "import pymupdf4llm\n",
    "import base64\n",
    "from IPython.display import Markdown\n",
    "from langchain.chat_models import init_chat_model\n",
    "import IPython.display\n",
    "from langchain_text_splitters import RecursiveCharacterTextSplitter\n",
    "from langchain_core.tools import tool\n",
    "from langgraph.prebuilt import create_react_agent\n",
    "from langgraph.checkpoint.memory import MemorySaver\n",
    "from langchain_core.vectorstores import InMemoryVectorStore\n",
    "from langchain.retrievers import ParentDocumentRetriever\n",
    "from langchain.storage import InMemoryStore\n",
    "import json\n"
   ],
   "id": "initial_id",
   "outputs": [],
   "execution_count": 3
  },
  {
   "metadata": {
    "ExecuteTime": {
     "end_time": "2025-07-27T13:58:06.610154Z",
     "start_time": "2025-07-27T13:58:06.599626Z"
    }
   },
   "cell_type": "code",
   "source": "doc: fitz.Document = fitz.open(PDF_FILE)",
   "id": "6474ceaaf1669b2d",
   "outputs": [],
   "execution_count": 4
  },
  {
   "metadata": {
    "ExecuteTime": {
     "end_time": "2025-07-27T13:58:06.644462Z",
     "start_time": "2025-07-27T13:58:06.638665Z"
    }
   },
   "cell_type": "code",
   "source": [
    "def summarize_images(images: list[str], prompt_template: str, model) -> list[str]:\n",
    "    messages = [\n",
    "        (\n",
    "            \"user\",\n",
    "            [\n",
    "                {\"type\": \"text\", \"text\": prompt_template},\n",
    "                {\n",
    "                    \"type\": \"image_url\",\n",
    "                    \"image_url\": {\"url\": \"data:image/png;base64,{image}\"},\n",
    "                },\n",
    "            ],\n",
    "        )\n",
    "    ]\n",
    "\n",
    "    prompt = ChatPromptTemplate.from_messages(messages)\n",
    "\n",
    "    chain = prompt | ChatOpenAI(model=model) | StrOutputParser()\n",
    "    return chain.batch(images)"
   ],
   "id": "9244fcda24c1f1c4",
   "outputs": [],
   "execution_count": 5
  },
  {
   "metadata": {
    "ExecuteTime": {
     "end_time": "2025-07-27T13:58:06.680639Z",
     "start_time": "2025-07-27T13:58:06.673596Z"
    }
   },
   "cell_type": "code",
   "source": [
    "\n",
    "def extract_images(doc: fitz.Document, model: str, prompt: str, summarize: bool = True) -> list[Document]:\n",
    "    documents: list[Document] = []\n",
    "    images: list[str] = []\n",
    "    for idx, page in enumerate(doc):\n",
    "        for img in page.get_images(full=True):\n",
    "            xref = img[0]\n",
    "            base_image = doc.extract_image(xref)[\"image\"]\n",
    "            pil_image = Image.open(io.BytesIO(base_image))\n",
    "            file = f\"{IMAGES_FOLDER}/{idx}_{img[7]}.png\"\n",
    "            pil_image.save(file, \"PNG\")\n",
    "            documents.append(\n",
    "                Document(page_content=\"\",\n",
    "                         metadata=dict(doc.metadata, pdf=doc._name, page=page.number + 1, file=file, type=\"image\")))\n",
    "            if summarize:\n",
    "                images.append(base64.encodebytes(base_image).decode(\"ascii\"))\n",
    "    if summarize:\n",
    "        summarized_images = summarize_images(images,\n",
    "                                             prompt,\n",
    "                                             model)\n",
    "        for doc, summary in zip(documents, summarized_images):\n",
    "            doc.page_content = summary\n",
    "    return documents\n",
    "\n"
   ],
   "id": "3e7d263860ec2c06",
   "outputs": [],
   "execution_count": 6
  },
  {
   "metadata": {
    "ExecuteTime": {
     "end_time": "2025-07-27T13:58:06.711986Z",
     "start_time": "2025-07-27T13:58:06.703802Z"
    }
   },
   "cell_type": "code",
   "source": [
    "\n",
    "def extract_tables(doc: fitz.Document, model: str, prompt: str, summarize: bool = True) -> list[Document]:\n",
    "    documents: list[Document] = []\n",
    "    images: list[str] = []\n",
    "    for idx, page in enumerate(doc):\n",
    "        tabs = page.find_tables()  # detect the tables\n",
    "        for i, tab in enumerate(tabs):  # iterate over all tables\n",
    "            pix = page.get_pixmap(clip=tab.bbox)\n",
    "            file = f\"{TABLES_FOLDER}/{idx}_{i}.png\"\n",
    "            img = Image.frombytes(\"RGB\", [pix.width, pix.height], pix.samples)\n",
    "            img.save(file, \"PNG\")\n",
    "            buffered = io.BytesIO()\n",
    "            img.save(buffered, format=\"PNG\")\n",
    "            documents.append(\n",
    "                Document(page_content=\"\",\n",
    "                         metadata=dict(doc.metadata, pdf=doc._name, page=page.number + 1, file=file, type=\"table\")))\n",
    "            if summarize:\n",
    "                images.append(base64.encodebytes(buffered.getvalue()).decode(\"ascii\"))\n",
    "    if summarize:\n",
    "        summarized_images = summarize_images(images, prompt, model)\n",
    "        for doc, summary in zip(documents, summarized_images):\n",
    "            doc.page_content = summary\n",
    "\n",
    "    return documents\n"
   ],
   "id": "167d6ff76f3d9b9c",
   "outputs": [],
   "execution_count": 7
  },
  {
   "metadata": {
    "ExecuteTime": {
     "end_time": "2025-07-27T13:58:06.746567Z",
     "start_time": "2025-07-27T13:58:06.742134Z"
    }
   },
   "cell_type": "code",
   "source": [
    "\n",
    "def extract_text(doc: fitz.Document) -> list[Document]:\n",
    "    pages = pymupdf4llm.to_markdown(doc=doc, ignore_images=True, table_strategy=None, page_chunks=True)\n",
    "    return [Document(page_content=page['text'], metadata=dict(page['metadata'], type='text')) for page in pages]\n"
   ],
   "id": "f404644155878329",
   "outputs": [],
   "execution_count": 8
  },
  {
   "metadata": {
    "ExecuteTime": {
     "end_time": "2025-07-27T13:58:06.787744Z",
     "start_time": "2025-07-27T13:58:06.780196Z"
    }
   },
   "cell_type": "code",
   "source": [
    "def create_retriever(embeddings_model: str, chunk_size: int, chunk_overlap: int):\n",
    "    embeddings = OpenAIEmbeddings(model=embeddings_model)\n",
    "    store = InMemoryStore()\n",
    "    return ParentDocumentRetriever(\n",
    "        vectorstore=InMemoryVectorStore(embeddings),\n",
    "        docstore=store,\n",
    "        child_splitter=RecursiveCharacterTextSplitter(chunk_size=chunk_size, chunk_overlap=chunk_overlap),\n",
    "    )\n"
   ],
   "id": "3b6dc794dead8ecd",
   "outputs": [],
   "execution_count": 9
  },
  {
   "metadata": {
    "ExecuteTime": {
     "end_time": "2025-07-27T13:58:06.828895Z",
     "start_time": "2025-07-27T13:58:06.818012Z"
    }
   },
   "cell_type": "code",
   "source": [
    "def create_document_info(doc: fitz.Document, text_docs, image_docs, table_docs) -> dict:\n",
    "    doc_info = {}\n",
    "    doc_info[\"name\"] = doc._name\n",
    "    doc_info[\"pages_count\"] = len(doc)\n",
    "    doc_info[\"images_count\"] = len(image_docs)\n",
    "    doc_info[\"tables_count\"] = len(table_docs)\n",
    "    doc_info[\"text_length\"] = sum([len(doc.page_content) for doc in text_docs])\n",
    "    for page in range(len(doc)):\n",
    "        page_info = {}\n",
    "        page_info[\"page_number\"] = page + 1\n",
    "        page_info[\"text_length\"] = len(text_docs[page].page_content)\n",
    "        page_info[\"images_count\"] = len([document for document in image_docs if document.metadata[\"page\"] == page + 1])\n",
    "        page_info[\"tables_count\"] = len([document for document in table_docs if document.metadata[\"page\"] == page + 1])\n",
    "        doc_info[f\"page_{page + 1}\"] = page_info\n",
    "    return doc_info"
   ],
   "id": "4cb254a7afeb5584",
   "outputs": [],
   "execution_count": 10
  },
  {
   "metadata": {
    "ExecuteTime": {
     "end_time": "2025-07-27T13:58:06.863971Z",
     "start_time": "2025-07-27T13:58:06.859002Z"
    }
   },
   "cell_type": "code",
   "source": [
    "def create_retriever_from_document(doc: fitz.Document, embeddings_model: str, chunk_size, chunk_overlap,\n",
    "                                   images_summary_model, images_summary_prompt,\n",
    "                                   tables_summary_model, tables_summary_prompt):\n",
    "    retriever = create_retriever(embeddings_model, chunk_size, chunk_overlap)\n",
    "\n",
    "    text_docs = extract_text(doc)\n",
    "    image_docs = extract_images(doc, images_summary_model, images_summary_prompt)\n",
    "    table_docs = extract_tables(doc, tables_summary_model, tables_summary_prompt)\n",
    "\n",
    "    retriever.add_documents(text_docs)\n",
    "    retriever.add_documents(image_docs)\n",
    "    retriever.add_documents(table_docs)\n",
    "\n",
    "    return retriever, create_document_info(doc, text_docs, image_docs, table_docs)\n"
   ],
   "id": "543d5b3c57e351b3",
   "outputs": [],
   "execution_count": 11
  },
  {
   "metadata": {
    "ExecuteTime": {
     "end_time": "2025-07-27T13:58:56.803063Z",
     "start_time": "2025-07-27T13:58:06.892854Z"
    }
   },
   "cell_type": "code",
   "source": [
    "retriever, doc_info = create_retriever_from_document(doc, EMBEDDINGS_MODEL, CHUNK_SIZE, CHUNK_OVERLAP,\n",
    "                                                     IMAGES_SUMMARY_MODEL, IMAGES_SUMMARY_PROMPT, TABLES_SUMMARY_MODEL,\n",
    "                                                     TABLES_SUMMARY_PROMPT)"
   ],
   "id": "67751daa6f9eae4e",
   "outputs": [],
   "execution_count": 12
  },
  {
   "metadata": {
    "ExecuteTime": {
     "end_time": "2025-07-27T13:58:56.847650Z",
     "start_time": "2025-07-27T13:58:56.827419Z"
    }
   },
   "cell_type": "code",
   "source": [
    "def retrieve_page_resource(page_number: int, type) -> list[Document]:\n",
    "    return [document for _, document in retriever.docstore.store.items() if\n",
    "            document.metadata[\"page\"] == page_number and document.metadata[\"type\"] == type]\n"
   ],
   "id": "2dc459b6840cca52",
   "outputs": [],
   "execution_count": 13
  },
  {
   "metadata": {
    "ExecuteTime": {
     "end_time": "2025-07-27T13:58:57.182801Z",
     "start_time": "2025-07-27T13:58:56.902547Z"
    }
   },
   "cell_type": "code",
   "source": [
    "def serialize_docs(docs: list[Document]) -> str:\n",
    "    return \"\\n\\n\".join(\n",
    "        (f\"Source: {doc.metadata}\\nContent: {doc.page_content}\")\n",
    "        for doc in docs\n",
    "    )\n",
    "\n",
    "\n",
    "@tool(response_format=\"content_and_artifact\")\n",
    "def retrieve_images_from_page(page_number: int):\n",
    "    \"\"\"Retrieve a detailed summary of images from a page.\"\"\"\n",
    "    retrieved_docs = retrieve_page_resource(page_number, \"image\")\n",
    "    serialized = serialize_docs(retrieved_docs)\n",
    "    return serialized, retrieved_docs\n",
    "\n",
    "\n",
    "@tool(response_format=\"content_and_artifact\")\n",
    "def retrieve_tables_from_page(page_number: int):\n",
    "    \"\"\"Retrieve a detailed summary of tables from a page.\"\"\"\n",
    "    retrieved_docs = retrieve_page_resource(page_number, \"table\")\n",
    "    serialized = serialize_docs(retrieved_docs)\n",
    "    return serialized, retrieved_docs\n",
    "\n",
    "\n",
    "@tool(response_format=\"content_and_artifact\")\n",
    "def retrieve_text_from_page(page_number: int):\n",
    "    \"\"\"Retrieve text content from a page.\"\"\"\n",
    "    retrieved_docs = retrieve_page_resource(page_number, \"text\")\n",
    "    serialized = serialize_docs(retrieved_docs)\n",
    "    return serialized, retrieved_docs\n",
    "\n",
    "\n",
    "@tool(response_format=\"content_and_artifact\")\n",
    "def retrieve(query: str):\n",
    "    \"\"\"Retrieve information related to a query from the document.\"\"\"\n",
    "    retrieved_docs = retriever.invoke(query)\n",
    "    serialized = serialize_docs(retrieved_docs)\n",
    "    return serialized, retrieved_docs\n",
    "\n",
    "\n",
    "def create_agent(llm_model, doc_info):\n",
    "    llm = init_chat_model(llm_model, model_provider=\"openai\")\n",
    "    doc_structure = json.dumps(doc_info, indent=4)\n",
    "    system_prompt = \"\"\"You are a helpful assistant capable of answering questions about the user's document. Use the appropriate tools to retrieve relevant information from the user's document. If you don't know the answer, simply state that you don't know.\n",
    "The document has the following structure:\\n\"\"\" + doc_structure\n",
    "\n",
    "    return create_react_agent(llm,\n",
    "                              [retrieve, retrieve_images_from_page, retrieve_tables_from_page, retrieve_text_from_page],\n",
    "                              prompt=system_prompt,\n",
    "                              checkpointer=MemorySaver())\n",
    "\n",
    "\n",
    "agent_executor = create_agent(LLM_MODEL, doc_info)\n",
    "display(IPython.display.Image(agent_executor.get_graph().draw_mermaid_png()))\n"
   ],
   "id": "3087f417caab8499",
   "outputs": [
    {
     "data": {
      "image/png": "[encoded data removed]",
      "text/plain": [
       "<IPython.core.display.Image object>"
      ]
     },
     "metadata": {},
     "output_type": "display_data"
    }
   ],
   "execution_count": 14
  },
  {
   "metadata": {
    "jupyter": {
     "is_executing": true
    },
    "ExecuteTime": {
     "start_time": "2025-07-27T13:58:57.242978Z"
    }
   },
   "cell_type": "code",
   "source": [
    "import gradio as gr\n",
    "from datetime import datetime\n",
    "\n",
    "config = None\n",
    "\n",
    "\n",
    "def recreate_config():\n",
    "    global config\n",
    "    config = {\"thread_id\": datetime.now().strftime(\"%H:%M:%S\")}\n",
    "\n",
    "\n",
    "recreate_config()\n",
    "\n",
    "\n",
    "def user(user_message, history: list):\n",
    "    return \"\", history + [{\"role\": \"user\", \"content\": user_message}]\n",
    "\n",
    "\n",
    "def bot(history: list):\n",
    "    user_msg = history[-1][\"content\"]\n",
    "\n",
    "    processed_messages_count = 0\n",
    "    for stem_num, step in enumerate(agent_executor.stream(\n",
    "            {\"messages\": [{\"role\": \"user\", \"content\": user_msg}]},\n",
    "            stream_mode=\"values\",\n",
    "            config=config,\n",
    "    )):\n",
    "        if stem_num == 0:\n",
    "            processed_messages_count = len(step[\"messages\"])\n",
    "            for message in reversed(step[\"messages\"]):\n",
    "                if message.type != 'human':\n",
    "                    processed_messages_count -= 1\n",
    "                else:\n",
    "                    break\n",
    "\n",
    "        for message in step[\"messages\"][processed_messages_count:]:\n",
    "            if message.type == \"ai\":\n",
    "                processed_messages_count += 1\n",
    "                if len(message.tool_calls) > 0:\n",
    "                    content = content = message.content\n",
    "                    if len(content) == 0:\n",
    "                        content = \"I need to call some tools...\"\n",
    "                    history.append(gr.ChatMessage(role=\"assistant\", content=content,\n",
    "                                                  metadata={\"id\": message.id, \"title\": \"🧠 Thinking\"}))\n",
    "                    for tool_call in message.tool_calls:\n",
    "                        history.append(gr.ChatMessage(role=\"assistant\",\n",
    "                                                      content=f\"I need to use the **{tool_call[\"name\"]}** tool with arguments **{tool_call[\"args\"]}**.\",\n",
    "                                                      metadata={\"parent_id\": message.id}))\n",
    "                else:\n",
    "                    history.append(gr.ChatMessage(role=\"assistant\", content=message.content))\n",
    "            elif message.type == \"tool\":\n",
    "                processed_messages_count += 1\n",
    "                history.append(gr.ChatMessage(role=\"assistant\", content=message.content[:15] + \"...\",\n",
    "                                              metadata={\n",
    "                                                  \"title\": f\"🛠️ Used tool **{message.name}** {message.tool_call_id}\",\n",
    "                                                  \"id\": message.id}))\n",
    "                for artifact in message.artifact:\n",
    "                    metadata = None\n",
    "                    if type(artifact) is dict:\n",
    "                        metadata = artifact[\"metadata\"]\n",
    "                    else:\n",
    "                        metadata = artifact.metadata\n",
    "                    if \"file\" in metadata:\n",
    "                        history.append(\n",
    "                            gr.ChatMessage(role=\"assistant\", content=gr.Image(value=metadata[\"file\"]),\n",
    "                                           metadata={\"title\": metadata[\"file\"]}))\n",
    "                    else:\n",
    "                        history.append(gr.ChatMessage(role=\"assistant\", content=artifact.page_content,\n",
    "                                                      metadata={\"parent_id\": message.id}))\n",
    "            yield history\n",
    "\n",
    "with gr.Blocks() as demo:\n",
    "    chatbot = gr.Chatbot(type=\"messages\")\n",
    "    msg = gr.Textbox()\n",
    "\n",
    "    msg.submit(user, [msg, chatbot], [msg, chatbot], queue=False).then(\n",
    "        bot, chatbot, chatbot\n",
    "    )\n",
    "    chatbot.clear(recreate_config)\n",
    "\n",
    "demo.launch(debug=True, height=600)"
   ],
   "id": "925a1025526e9fff",
   "outputs": [
    {
     "name": "stdout",
     "output_type": "stream",
     "text": [
      "* Running on local URL:  http://127.0.0.1:7860\n",
      "* To create a public link, set `share=True` in `launch()`.\n"
     ]
    },
    {
     "data": {
      "text/plain": [
       "<IPython.core.display.HTML object>"
      ],
      "text/html": [
       "<div><iframe src=\"http://127.0.0.1:7860/\" width=\"100%\" height=\"600\" allow=\"autoplay; camera; microphone; clipboard-read; clipboard-write;\" frameborder=\"0\" allowfullscreen></iframe></div>"
      ]
     },
     "metadata": {},
     "output_type": "display_data"
    }
   ],
   "execution_count": null
  }
 ],
 "metadata": {
  "kernelspec": {
   "display_name": "Python 3",
   "language": "python",
   "name": "python3"
  },
  "language_info": {
   "codemirror_mode": {
    "name": "ipython",
    "version": 2
   },
   "file_extension": ".py",
   "mimetype": "text/x-python",
   "name": "python",
   "nbconvert_exporter": "python",
   "pygments_lexer": "ipython2",
   "version": "2.7.6"
  }
 },
 "nbformat": 4,
 "nbformat_minor": 5
}

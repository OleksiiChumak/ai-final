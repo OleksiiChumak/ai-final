{
 "cells": [
  {
   "metadata": {
    "ExecuteTime": {
     "end_time": "2025-07-26T16:27:19.796507Z",
     "start_time": "2025-07-26T16:27:13.158748Z"
    }
   },
   "cell_type": "code",
   "source": [
    "\n",
    "!pip install -qU pymupdf4llm Pillow langchain langchain-openai langchain-text-splitters langchain_community langchain-pymupdf4llm langgraph gradio"
   ],
   "id": "c78e2d9c10670167",
   "outputs": [
    {
     "name": "stderr",
     "output_type": "stream",
     "text": [
      "\n",
      "[notice] A new release of pip is available: 25.0.1 -> 25.1.1\n",
      "[notice] To update, run: python.exe -m pip install --upgrade pip\n"
     ]
    }
   ],
   "execution_count": 1
  },
  {
   "metadata": {
    "ExecuteTime": {
     "end_time": "2025-07-26T16:27:20.091397Z",
     "start_time": "2025-07-26T16:27:20.081899Z"
    }
   },
   "cell_type": "code",
   "source": [
    "import os\n",
    "\n",
    "if not os.environ.get(\"OPENAI_API_KEY\"):\n",
    "    raise \"OPENAI_API_KEY not set\"\n",
    "\n",
    "if not os.environ.get(\"LANGSMITH_API_KEY\"):\n",
    "    raise \"LANGSMITH_API_KEY not set\"\n",
    "os.environ[\"LANGSMITH_TRACING\"] = \"true\"\n",
    "os.environ[\"LANGSMITH_PROJECT\"] = \"ai-final\"\n",
    "os.environ[\"LANGSMITH_ENDPOINT\"] = \"https://api.smith.langchain.com\"\n",
    "os.environ[\"LANGCHAIN_TRACING_V2\"] = \"true\"\n",
    "\n",
    "PDF_FILE = \"EPAM-Reports-Results-for-Fourth-Quarter-and-Full-Year-2024_4.pdf\"\n",
    "\n",
    "IMAGES_FOLDER = './storage/images'\n",
    "TABLES_FOLDER = './storage/tables'\n",
    "\n",
    "IMAGES_SUMMARY_MODEL = \"gpt-4o-mini\"\n",
    "IMAGES_SUMMARY_PROMPT = \"Describe the image in detail. For context, the image is part of a PDF document\"\n",
    "\n",
    "TABLES_SUMMARY_MODEL = \"gpt-4o-mini\"\n",
    "TABLES_SUMMARY_PROMPT = \"Describe the image of the table in detail. For context, the image is part of a PDF document.\"\n",
    "\n",
    "LLM_MODEL = \"gpt-4o-mini\"\n",
    "\n",
    "CHUNK_SIZE = 500\n",
    "CHUNK_OVERLAP = 100\n",
    "\n",
    "EMBEDDINGS_MODEL = \"text-embedding-3-small\"\n",
    "\n",
    "AGENT_SYSTEM_PROMPT = \"\"\"You are a helpful assistant that extracts information from PDF documents.\"\"\"\n",
    "\n",
    "os.makedirs(IMAGES_FOLDER, exist_ok=True)\n",
    "os.makedirs(TABLES_FOLDER, exist_ok=True)\n"
   ],
   "id": "68117cbceef63d50",
   "outputs": [],
   "execution_count": 2
  },
  {
   "metadata": {
    "ExecuteTime": {
     "end_time": "2025-07-26T16:27:30.602137Z",
     "start_time": "2025-07-26T16:27:20.108420Z"
    }
   },
   "cell_type": "code",
   "source": [
    "import fitz\n",
    "import io\n",
    "from PIL import Image\n",
    "from langchain_openai import OpenAIEmbeddings\n",
    "from langchain_openai import ChatOpenAI\n",
    "from langchain_core.prompts import ChatPromptTemplate\n",
    "from langchain_core.output_parsers import StrOutputParser\n",
    "from langchain_core.documents import Document\n",
    "import pymupdf4llm\n",
    "import base64\n",
    "from IPython.display import Markdown\n",
    "from langchain.chat_models import init_chat_model\n",
    "import IPython.display\n",
    "from langchain_text_splitters import RecursiveCharacterTextSplitter\n",
    "from langchain_core.tools import tool\n",
    "from langgraph.prebuilt import create_react_agent\n",
    "from langgraph.checkpoint.memory import MemorySaver\n",
    "from langchain_core.vectorstores import InMemoryVectorStore\n",
    "from langchain.retrievers import ParentDocumentRetriever\n",
    "from langchain.storage import InMemoryStore\n"
   ],
   "id": "initial_id",
   "outputs": [],
   "execution_count": 3
  },
  {
   "metadata": {
    "ExecuteTime": {
     "end_time": "2025-07-26T16:27:30.629860Z",
     "start_time": "2025-07-26T16:27:30.621230Z"
    }
   },
   "cell_type": "code",
   "source": "doc: fitz.Document = fitz.open(PDF_FILE)",
   "id": "6474ceaaf1669b2d",
   "outputs": [],
   "execution_count": 4
  },
  {
   "metadata": {
    "ExecuteTime": {
     "end_time": "2025-07-26T16:27:30.678940Z",
     "start_time": "2025-07-26T16:27:30.672437Z"
    }
   },
   "cell_type": "code",
   "source": [
    "def summarize_images(images: list[str], prompt_template: str, model) -> list[str]:\n",
    "    messages = [\n",
    "        (\n",
    "            \"user\",\n",
    "            [\n",
    "                {\"type\": \"text\", \"text\": prompt_template},\n",
    "                {\n",
    "                    \"type\": \"image_url\",\n",
    "                    \"image_url\": {\"url\": \"data:image/png;base64,{image}\"},\n",
    "                },\n",
    "            ],\n",
    "        )\n",
    "    ]\n",
    "\n",
    "    prompt = ChatPromptTemplate.from_messages(messages)\n",
    "\n",
    "    chain = prompt | ChatOpenAI(model=model) | StrOutputParser()\n",
    "    return chain.batch(images)"
   ],
   "id": "9244fcda24c1f1c4",
   "outputs": [],
   "execution_count": 5
  },
  {
   "metadata": {
    "ExecuteTime": {
     "end_time": "2025-07-26T16:27:30.722593Z",
     "start_time": "2025-07-26T16:27:30.714515Z"
    }
   },
   "cell_type": "code",
   "source": [
    "\n",
    "def extract_images(doc: fitz.Document, model: str, prompt: str, summarize: bool = True) -> list[Document]:\n",
    "    documents: list[Document] = []\n",
    "    images: list[str] = []\n",
    "    for idx, page in enumerate(doc):\n",
    "        for img in page.get_images(full=True):\n",
    "            xref = img[0]\n",
    "            base_image = doc.extract_image(xref)[\"image\"]\n",
    "            pil_image = Image.open(io.BytesIO(base_image))\n",
    "            file = f\"{IMAGES_FOLDER}/{idx}_{img[7]}.png\"\n",
    "            pil_image.save(file, \"PNG\")\n",
    "            documents.append(\n",
    "                Document(page_content=\"\",\n",
    "                         metadata=dict(doc.metadata, pdf=doc._name, page=page.number, file=file, type=\"image\")))\n",
    "            if summarize:\n",
    "                images.append(base64.encodebytes(base_image).decode(\"ascii\"))\n",
    "    if summarize:\n",
    "        summarized_images = summarize_images(images,\n",
    "                                             prompt,\n",
    "                                             model)\n",
    "        for doc, summary in zip(documents, summarized_images):\n",
    "            doc.page_content = summary\n",
    "    return documents\n",
    "\n"
   ],
   "id": "3e7d263860ec2c06",
   "outputs": [],
   "execution_count": 6
  },
  {
   "metadata": {
    "ExecuteTime": {
     "end_time": "2025-07-26T16:27:30.765749Z",
     "start_time": "2025-07-26T16:27:30.755898Z"
    }
   },
   "cell_type": "code",
   "source": [
    "\n",
    "def extract_tables(doc: fitz.Document, model: str, prompt: str, summarize: bool = True) -> list[Document]:\n",
    "    documents: list[Document] = []\n",
    "    images: list[str] = []\n",
    "    for idx, page in enumerate(doc):\n",
    "        tabs = page.find_tables()  # detect the tables\n",
    "        for i, tab in enumerate(tabs):  # iterate over all tables\n",
    "            pix = page.get_pixmap(clip=tab.bbox)\n",
    "            file = f\"{TABLES_FOLDER}/{idx}_{i}.png\"\n",
    "            img = Image.frombytes(\"RGB\", [pix.width, pix.height], pix.samples)\n",
    "            img.save(file, \"PNG\")\n",
    "            buffered = io.BytesIO()\n",
    "            img.save(buffered, format=\"PNG\")\n",
    "            documents.append(\n",
    "                Document(page_content=\"\",\n",
    "                         metadata=dict(doc.metadata, pdf=doc._name, page=page.number, file=file, type=\"table\")))\n",
    "            if summarize:\n",
    "                images.append(base64.encodebytes(buffered.getvalue()).decode(\"ascii\"))\n",
    "    if summarize:\n",
    "        summarized_images = summarize_images(images, prompt, model)\n",
    "        for doc, summary in zip(documents, summarized_images):\n",
    "            doc.page_content = summary\n",
    "\n",
    "    return documents\n"
   ],
   "id": "167d6ff76f3d9b9c",
   "outputs": [],
   "execution_count": 7
  },
  {
   "metadata": {
    "ExecuteTime": {
     "end_time": "2025-07-26T16:27:30.808384Z",
     "start_time": "2025-07-26T16:27:30.801768Z"
    }
   },
   "cell_type": "code",
   "source": [
    "\n",
    "def extract_text(doc: fitz.Document) -> list[Document]:\n",
    "    pages = pymupdf4llm.to_markdown(doc=doc, ignore_images=True, table_strategy=None, page_chunks=True)\n",
    "    return [Document(page_content=page['text'], metadata=dict(page['metadata'], type='text')) for page in pages if\n",
    "            len(page['text']) > 0]\n"
   ],
   "id": "f404644155878329",
   "outputs": [],
   "execution_count": 8
  },
  {
   "metadata": {
    "ExecuteTime": {
     "end_time": "2025-07-26T16:27:32.519425Z",
     "start_time": "2025-07-26T16:27:30.845932Z"
    }
   },
   "cell_type": "code",
   "source": "llm = init_chat_model(LLM_MODEL, model_provider=\"openai\")",
   "id": "4e98ced67c5b976c",
   "outputs": [],
   "execution_count": 9
  },
  {
   "metadata": {
    "ExecuteTime": {
     "end_time": "2025-07-26T16:27:32.857943Z",
     "start_time": "2025-07-26T16:27:32.537750Z"
    }
   },
   "cell_type": "code",
   "source": [
    "\n",
    "@tool(response_format=\"content_and_artifact\")\n",
    "def retrieve_tables(query: str):\n",
    "    \"\"\"Retrieve tables related to a query\"\"\"\n",
    "    retrieved_docs = vector_store.similarity_search(query, k=10, filter={\"type\": \"table\"})\n",
    "    serialized = \"\\n\\n\".join(\n",
    "        (f\"Source: {doc.metadata}\\nContent: {doc.page_content}\")\n",
    "        for doc in retrieved_docs\n",
    "    )\n",
    "    return serialized, retrieved_docs\n",
    "\n",
    "\n",
    "@tool(response_format=\"content_and_artifact\")\n",
    "def retrieve_images(query: str):\n",
    "    \"\"\"Retrieve images related to a query\"\"\"\n",
    "    retrieved_docs = vector_store.similarity_search(query, k=10, filter={\"type\": \"table\"})\n",
    "    serialized = \"\\n\\n\".join(\n",
    "        (f\"Source: {doc.metadata}\\nContent: {doc.page_content}\")\n",
    "        for doc in retrieved_docs\n",
    "    )\n",
    "    return serialized, retrieved_docs\n",
    "\n",
    "\n",
    "@tool(response_format=\"content_and_artifact\")\n",
    "def retrieve(query: str):\n",
    "    \"\"\"Retrieve information related to a query.\"\"\"\n",
    "    retrieved_docs = vector_store.similarity_search(query, k=4)\n",
    "    serialized = \"\\n\\n\".join(\n",
    "        (f\"Source: {doc.metadata}\\nContent: {doc.page_content}\")\n",
    "        for doc in retrieved_docs\n",
    "    )\n",
    "    return serialized, retrieved_docs\n",
    "\n",
    "\n",
    "def create_agent():\n",
    "    return create_react_agent(llm, [retrieve, retrieve_images, retrieve_images], prompt=AGENT_SYSTEM_PROMPT,\n",
    "                              checkpointer=MemorySaver())\n",
    "\n",
    "\n",
    "agent_executor = create_agent()\n",
    "display(IPython.display.Image(agent_executor.get_graph().draw_mermaid_png()))\n"
   ],
   "id": "3087f417caab8499",
   "outputs": [
    {
     "data": {
      "image/png": "[encoded data removed]",
      "text/plain": [
       "<IPython.core.display.Image object>"
      ]
     },
     "metadata": {},
     "output_type": "display_data"
    }
   ],
   "execution_count": 10
  },
  {
   "metadata": {
    "ExecuteTime": {
     "end_time": "2025-07-26T16:27:32.901018Z",
     "start_time": "2025-07-26T16:27:32.895772Z"
    }
   },
   "cell_type": "code",
   "source": [
    "def create_retriever(embeddings_model: str, chunk_size: int, chunk_overlap: int):\n",
    "    embeddings = OpenAIEmbeddings(model=embeddings_model)\n",
    "    # vector_store = Chroma(\n",
    "    #     collection_name=\"aifinals_collection\",\n",
    "    #     embedding_function=embeddings,\n",
    "    #     persist_directory=\"./storage/db\",  # Where to save data locally, remove if not necessary\n",
    "    # )\n",
    "\n",
    "    store = InMemoryStore()\n",
    "    return ParentDocumentRetriever(\n",
    "        vectorstore=InMemoryVectorStore(embeddings),\n",
    "        docstore=store,\n",
    "        child_splitter=RecursiveCharacterTextSplitter(chunk_size=chunk_size, chunk_overlap=chunk_overlap),\n",
    "    )\n"
   ],
   "id": "3b6dc794dead8ecd",
   "outputs": [],
   "execution_count": 11
  },
  {
   "metadata": {
    "ExecuteTime": {
     "end_time": "2025-07-26T16:27:34.698112Z",
     "start_time": "2025-07-26T16:27:32.939466Z"
    }
   },
   "cell_type": "code",
   "source": "retriever = create_retriever(EMBEDDINGS_MODEL, CHUNK_SIZE, CHUNK_OVERLAP)",
   "id": "fac74bc1152764bd",
   "outputs": [],
   "execution_count": 12
  },
  {
   "metadata": {
    "ExecuteTime": {
     "end_time": "2025-07-26T16:35:27.108017Z",
     "start_time": "2025-07-26T16:35:25.049133Z"
    }
   },
   "cell_type": "code",
   "source": [
    "import gradio as gr\n",
    "\n",
    "\n",
    "def recreate_db_lst(embeddings_model: str, chunk_size: int, chunk_overlap: int):\n",
    "    global retriever\n",
    "    retriever = create_retriever(embeddings_model, chunk_size, chunk_overlap)\n",
    "    return \"Retriever recreated\"\n",
    "\n",
    "\n",
    "def show_documents(type):\n",
    "    documents = retriever.vectorstore.similarity_search(\"\", k=100, filter=lambda x: x.metadata[\"type\"] == type)\n",
    "    return documents_to_markdown(documents)\n",
    "\n",
    "\n",
    "def extract_images_lst(summary_model: str, summary_prompt: str):\n",
    "    retriever.add_documents(extract_images(doc, summary_model, summary_prompt))\n",
    "    return show_documents(\"image\")\n",
    "\n",
    "\n",
    "def extract_tables_lst(summary_model: str, summary_prompt: str):\n",
    "    retriever.add_documents(extract_tables(doc, summary_model, summary_prompt))\n",
    "    return show_documents(\"table\")\n",
    "\n",
    "\n",
    "def documents_to_markdown(documents: list[Document]) -> str:\n",
    "    sorted_documents = sorted(documents, key=lambda x: x.metadata['page'], reverse=False)\n",
    "    if len(sorted_documents) == 0:\n",
    "        return \"No documents found\"\n",
    "\n",
    "    res = \"\"\n",
    "\n",
    "    for idx, document in enumerate(sorted_documents):\n",
    "        res += f\"# {idx + 1}/{len(sorted_documents)} {document.id}\\n\"\n",
    "        for key, value in document.metadata.items():\n",
    "            res += f\"**{key}:** {value}\\n\"\n",
    "        res += \"\\n\"\n",
    "        if document.metadata['type'] == 'table' or document.metadata['type'] == 'image':\n",
    "            with open(document.metadata[\"file\"], \"rb\") as image_file:\n",
    "                encoded_string = base64.b64encode(image_file.read()).decode('ascii')\n",
    "            img = \"![](data:image/png;base64,\" + encoded_string + \")\"\n",
    "            res += img + \"\\n\"\n",
    "        res += document.page_content + \"\\n***\\n\"\n",
    "    return res\n",
    "\n",
    "\n",
    "def reimport_db_lst(embeddings_model: str, chunk_size, chunk_overlap, images_summary_model, images_summary_prompt,\n",
    "                    tables_summary_model, tables_summary_prompt):\n",
    "    global retriever\n",
    "    recreate_db_lst(embeddings_model, chunk_size, chunk_overlap)\n",
    "    retriever.add_documents(extract_text(doc))\n",
    "    retriever.add_documents(extract_images(doc, images_summary_model, images_summary_prompt))\n",
    "    retriever.add_documents(extract_tables(doc, tables_summary_model, tables_summary_prompt))\n",
    "    return \"Document is reimported\"\n",
    "\n",
    "\n",
    "def query_lst(query: str):\n",
    "    global retriever\n",
    "    return documents_to_markdown(retriever.invoke(query))\n",
    "\n",
    "\n",
    "def handle_click(button: gr.Button, all_buttons: list[gr.Button], **kwargs) -> None:\n",
    "    button.click(fn=lambda: tuple([gr.update(interactive=False) for b in all_buttons]), inputs=None,\n",
    "                 outputs=all_buttons) \\\n",
    "        .then(**kwargs) \\\n",
    "        .then(fn=lambda: tuple([gr.update(interactive=True) for b in all_buttons]), inputs=None,\n",
    "              outputs=all_buttons)\n",
    "\n",
    "\n",
    "with (gr.Blocks() as demo):\n",
    "    with gr.Row():\n",
    "        with gr.Column():\n",
    "            with gr.Row():\n",
    "                query = gr.Textbox(label=\"Query\")\n",
    "            with gr.Row():\n",
    "                query_btn = gr.Button(\"Run query\")\n",
    "            with gr.Row():\n",
    "                embeddings_model = gr.Textbox(label=\"Embeddings model\", value=EMBEDDINGS_MODEL)\n",
    "            with gr.Row():\n",
    "                recreate_db_btn = gr.Button(\"Recreate Vector Storage\")\n",
    "                reimport_db_btn = gr.Button(\"Reimport full document\")\n",
    "                show_text_btn = gr.Button(\"Show text\")\n",
    "\n",
    "            with gr.Row():\n",
    "                chunk_size = gr.Number(label=\"Chunk size\", value=CHUNK_SIZE)\n",
    "                chunk_overlap = gr.Number(label=\"Chunk overlap\", value=CHUNK_OVERLAP)\n",
    "            with gr.Row():\n",
    "                images_summary_model = gr.Textbox(label=\"Images summary model\", value=IMAGES_SUMMARY_MODEL)\n",
    "                images_summary_prompt = gr.Textbox(label=\"Images summary prompt\", value=IMAGES_SUMMARY_PROMPT)\n",
    "            with gr.Row():\n",
    "                extract_images_btn = gr.Button(\"Import images\")\n",
    "                show_images_btn = gr.Button(\"Show images\")\n",
    "            with gr.Row():\n",
    "                tables_summary_model = gr.Textbox(label=\"Tables summary model\", value=TABLES_SUMMARY_MODEL)\n",
    "                tables_summary_prompt = gr.Textbox(label=\"Tables summary prompt\", value=TABLES_SUMMARY_PROMPT)\n",
    "            with gr.Row():\n",
    "                extract_tables_btn = gr.Button(\"Tables\")\n",
    "                show_tables_btn = gr.Button(\"Show tables\")\n",
    "\n",
    "        with gr.Column(min_width=300):\n",
    "            out = gr.Markdown()\n",
    "    buttons = [extract_images_btn, show_images_btn, recreate_db_btn, extract_tables_btn, show_tables_btn,\n",
    "               reimport_db_btn, show_text_btn, query_btn]\n",
    "\n",
    "    handle_click(query_btn, buttons, fn=query_lst, inputs=query, outputs=out)\n",
    "\n",
    "    handle_click(recreate_db_btn, buttons, fn=recreate_db_lst, inputs=[embeddings_model, chunk_size, chunk_overlap],\n",
    "                 outputs=out)\n",
    "\n",
    "    handle_click(extract_images_btn, buttons, fn=extract_images_lst,\n",
    "                 inputs=[images_summary_model, images_summary_prompt], outputs=out)\n",
    "    handle_click(show_images_btn, buttons, fn=lambda: show_documents(\"image\"), outputs=out)\n",
    "\n",
    "    handle_click(extract_tables_btn, buttons, fn=extract_tables_lst,\n",
    "                 inputs=[tables_summary_model, tables_summary_prompt], outputs=out)\n",
    "    handle_click(show_tables_btn, buttons, fn=lambda: show_documents(\"table\"), outputs=out)\n",
    "\n",
    "    handle_click(show_text_btn, buttons, fn=lambda: show_documents(\"text\"), outputs=out)\n",
    "    handle_click(reimport_db_btn, buttons, fn=reimport_db_lst,\n",
    "                 inputs=[embeddings_model, chunk_size, chunk_overlap, images_summary_model, images_summary_prompt,\n",
    "                         tables_summary_model, tables_summary_prompt],\n",
    "                 outputs=out)\n",
    "\n",
    "    # llm_model = gr.Textbox(label=\"LLM model\", value=LLM_MODEL)\n",
    "\n",
    "demo.launch()"
   ],
   "id": "e1ff55471a554cc9",
   "outputs": [
    {
     "name": "stdout",
     "output_type": "stream",
     "text": [
      "* Running on local URL:  http://127.0.0.1:7865\n",
      "* To create a public link, set `share=True` in `launch()`.\n"
     ]
    },
    {
     "data": {
      "text/plain": [
       "<IPython.core.display.HTML object>"
      ],
      "text/html": [
       "<div><iframe src=\"http://127.0.0.1:7865/\" width=\"100%\" height=\"500\" allow=\"autoplay; camera; microphone; clipboard-read; clipboard-write;\" frameborder=\"0\" allowfullscreen></iframe></div>"
      ]
     },
     "metadata": {},
     "output_type": "display_data"
    },
    {
     "data": {
      "text/plain": []
     },
     "execution_count": 18,
     "metadata": {},
     "output_type": "execute_result"
    }
   ],
   "execution_count": 18
  }
 ],
 "metadata": {
  "kernelspec": {
   "display_name": "Python 3",
   "language": "python",
   "name": "python3"
  },
  "language_info": {
   "codemirror_mode": {
    "name": "ipython",
    "version": 2
   },
   "file_extension": ".py",
   "mimetype": "text/x-python",
   "name": "python",
   "nbconvert_exporter": "python",
   "pygments_lexer": "ipython2",
   "version": "2.7.6"
  }
 },
 "nbformat": 4,
 "nbformat_minor": 5
}
